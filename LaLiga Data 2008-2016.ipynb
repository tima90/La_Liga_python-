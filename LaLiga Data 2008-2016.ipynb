{
 "cells": [
  {
   "cell_type": "markdown",
   "metadata": {},
   "source": [
    "<a id='intro'></a>\n",
    "# LaLiga Data: \n",
    "\n",
    "> I have selected the Soccer Database from Kaggel, I have 2 topics to analyze: The Standing table of season 2014/2015 and the Sum of all the goals during the season between 2008 and 2016  \n",
    "\n",
    "Data Source: https://www.kaggle.com/hugomathien/soccer"
   ]
  },
  {
   "cell_type": "markdown",
   "metadata": {},
   "source": [
    "# Questions to investigate: "
   ]
  },
  {
   "cell_type": "markdown",
   "metadata": {},
   "source": [
    "> ### 1. Who has the highest points and goal differences during the seasn 2014/2015? \n",
    "> ### 2. During the seasons 2008-2016 who scored the most goals and had good defense players? "
   ]
  },
  {
   "cell_type": "markdown",
   "metadata": {},
   "source": [
    "### Importing the libraries:"
   ]
  },
  {
   "cell_type": "code",
   "execution_count": 1,
   "metadata": {},
   "outputs": [],
   "source": [
    "# Use this cell to set up import statements for all of the packages that you\n",
    "#   plan to use.\n",
    "\n",
    "import pandas as pd \n",
    "import numpy as np \n",
    "import sqlite3 as sq\n",
    "import matplotlib.pyplot as plt \n",
    "%matplotlib inline \n"
   ]
  },
  {
   "cell_type": "markdown",
   "metadata": {},
   "source": [
    "### Laod the data:"
   ]
  },
  {
   "cell_type": "code",
   "execution_count": 2,
   "metadata": {},
   "outputs": [],
   "source": [
    "# https://www.dataquest.io/blog/python-pandas-databases/\n",
    "#  read the data from SQL database and load it \n",
    "\n",
    "# connect python to the database \n",
    "con = sq.connect('database.sqlite')\n",
    "\n",
    "# read and load the data from the database from different tablas inside \n",
    "leagues = pd.read_sql('select * from league', con)\n",
    "match   = pd.read_sql('select * from match', con)\n",
    "player  = pd.read_sql('select * from player', con)\n",
    "team    = pd.read_sql('select * from team', con)\n"
   ]
  },
  {
   "cell_type": "markdown",
   "metadata": {},
   "source": [
    "#### Initate the dataframe:"
   ]
  },
  {
   "cell_type": "code",
   "execution_count": 3,
   "metadata": {},
   "outputs": [
    {
     "data": {
      "text/plain": [
       "season     season   \n",
       "2008/2009  2008/2009    380\n",
       "2009/2010  2009/2010    380\n",
       "2010/2011  2010/2011    380\n",
       "2011/2012  2011/2012    380\n",
       "2012/2013  2012/2013    380\n",
       "2013/2014  2013/2014    380\n",
       "2014/2015  2014/2015    380\n",
       "2015/2016  2015/2016    380\n",
       "Name: season, dtype: int64"
      ]
     },
     "execution_count": 3,
     "metadata": {},
     "output_type": "execute_result"
    }
   ],
   "source": [
    "# https://towardsdatascience.com/pandas-tips-and-tricks-33bcc8a40bb9\n",
    "# intiate a dataframe for only LaLiga league  \n",
    "laliga = match.loc[match['country_id'] == 21518] \n",
    "\n",
    "# group the data by seasons \n",
    "laliga.groupby('season')['season'].value_counts() "
   ]
  },
  {
   "cell_type": "markdown",
   "metadata": {},
   "source": [
    "## I chose first to analyze a specific season (2014/2015): \n",
    "### Standing table (Points and Goal Differences for the season) "
   ]
  },
  {
   "cell_type": "code",
   "execution_count": 4,
   "metadata": {},
   "outputs": [],
   "source": [
    "# Intiate a new dataframe for the matches during the season 2014/2015 \n",
    "laliga_season = match.loc[(match['country_id'] == 21518) & (match['season'] == '2014/2015')] \n",
    "# dataframe for the matches during 2008 to 2016 (full database): \n",
    "laliga_season_all = match.loc[(match['country_id'] == 21518)] \n",
    "\n",
    "# season teams group by: \n",
    "laliga_season_teams = laliga_season.groupby(['home_team_api_id']) \n",
    "laliga_season_teams_all = laliga_season_all.groupby(['home_team_api_id']) "
   ]
  },
  {
   "cell_type": "code",
   "execution_count": 5,
   "metadata": {},
   "outputs": [],
   "source": [
    "# intiate dictionary for the standing \n",
    "standing = {}\n",
    "\n",
    "# function to add match score to standing dict\n",
    "# it takes: - ht: home team name.\n",
    "#           - at: away team name.\n",
    "#           - hgf: home team goals.\n",
    "#           - agf: away team goals.\n",
    "#           - hw: True if home team win.\n",
    "#           - aw: True if away team win.\n",
    "#           - d: True if draw.\n",
    "def add_score(ht, at, hgf, agf, hw, aw, d): \n",
    "\n",
    "# if the home team wins the value from the for loop returns here \n",
    "    if hw:\n",
    "        standing[ht]['Pts'] += 3\n",
    "        standing[ht]['GF'] += hgf\n",
    "        standing[at]['GF'] += agf\n",
    "        standing[ht]['GA'] += agf\n",
    "        standing[at]['GA'] += hgf\n",
    "        standing[at]['L'] += 1\n",
    "        standing[ht]['W'] += 1 \n",
    "\n",
    "#if the away team wins the value from the for loop returns here \n",
    "    if aw:\n",
    "        standing[at]['Pts'] += 3\n",
    "        standing[ht]['GF'] += hgf\n",
    "        standing[at]['GF'] += agf\n",
    "        standing[ht]['GA'] += agf\n",
    "        standing[at]['GA'] += hgf\n",
    "        standing[at]['W'] += 1\n",
    "        standing[ht]['L'] += 1\n",
    "        \n",
    "# if they both draw the value from the for loop returns here \n",
    "    if d:\n",
    "        standing[ht]['Pts'] += 1\n",
    "        standing[at]['Pts'] += 1\n",
    "        standing[ht]['GF'] += hgf\n",
    "        standing[at]['GF'] += agf\n",
    "        standing[ht]['GA'] += agf\n",
    "        standing[at]['GA'] += hgf\n",
    "        standing[at]['D'] += 1\n",
    "        standing[ht]['D'] += 1"
   ]
  },
  {
   "cell_type": "code",
   "execution_count": 6,
   "metadata": {},
   "outputs": [],
   "source": [
    "# https://stackoverflow.com/questions/42513049/get-all-keys-from-groupby-object-in-pandas\n",
    "# add teams to standing dictionary \n",
    "# loop over teams and add names to standing dictionary \n",
    "for key in laliga_season_teams.groups.keys():\n",
    "    teams = team['team_long_name'].loc[team['team_api_id'] == key] # teams name \n",
    "# intiate dictionary for each team in laliga \n",
    "    standing[teams.item()] = {'Pts': 0,\n",
    "                             'W': 0,\n",
    "                             'D': 0,\n",
    "                             'L': 0,\n",
    "                             'GF': 0,\n",
    "                             'GA': 0,\n",
    "                             'GD': 0\n",
    "                            }"
   ]
  },
  {
   "cell_type": "code",
   "execution_count": 7,
   "metadata": {},
   "outputs": [],
   "source": [
    "# https://stackoverflow.com/questions/16476924/how-to-iterate-over-rows-in-a-dataframe-in-pandas\n",
    "# for loop to determine the points and the goals \n",
    "for index, row in laliga_season.iterrows():\n",
    "    home_team = team['team_long_name'].loc[team['team_api_id'] == row.home_team_api_id].item() #gets the home team name\n",
    "    away_team = team['team_long_name'].loc[team['team_api_id'] == row.away_team_api_id].item() #gets the away team name\n",
    "# if condition for the results from the matches they played and it returns to the function     \n",
    "    if row.home_team_goal == row.away_team_goal:\n",
    "        add_score(home_team, away_team, row.home_team_goal, row.away_team_goal, False, False, True)\n",
    "    elif row.home_team_goal > row.away_team_goal:\n",
    "        add_score(home_team, away_team, row.home_team_goal, row.away_team_goal, True, False, False)\n",
    "    else:\n",
    "        add_score(home_team, away_team, row.home_team_goal, row.away_team_goal, False, True, False)"
   ]
  },
  {
   "cell_type": "code",
   "execution_count": 8,
   "metadata": {},
   "outputs": [],
   "source": [
    "# https://stackoverflow.com/questions/42869544/dictionary-of-lists-to-dataframe \n",
    "# convert python dictionary to pandas df \n",
    "standing_df = pd.DataFrame.from_dict(standing,orient='index')"
   ]
  },
  {
   "cell_type": "code",
   "execution_count": 9,
   "metadata": {},
   "outputs": [],
   "source": [
    "# https://stackoverflow.com/questions/34023918/make-new-column-in-panda-dataframe-by-adding-values-from-other-columns/34023971\n",
    "# calculating the goal difference and how many matches each team played \n",
    "standing_df['GD'] = standing_df['GF'] - standing_df['GA']\n",
    "standing_df['MP'] = standing_df['W'] + standing_df['D'] + standing_df['L']"
   ]
  },
  {
   "cell_type": "markdown",
   "metadata": {},
   "source": [
    "Desplaying the datafram into a Standing schedule "
   ]
  },
  {
   "cell_type": "code",
   "execution_count": 10,
   "metadata": {},
   "outputs": [
    {
     "data": {
      "text/html": [
       "<div>\n",
       "<style scoped>\n",
       "    .dataframe tbody tr th:only-of-type {\n",
       "        vertical-align: middle;\n",
       "    }\n",
       "\n",
       "    .dataframe tbody tr th {\n",
       "        vertical-align: top;\n",
       "    }\n",
       "\n",
       "    .dataframe thead th {\n",
       "        text-align: right;\n",
       "    }\n",
       "</style>\n",
       "<table border=\"1\" class=\"dataframe\">\n",
       "  <thead>\n",
       "    <tr style=\"text-align: right;\">\n",
       "      <th></th>\n",
       "      <th>MP</th>\n",
       "      <th>W</th>\n",
       "      <th>D</th>\n",
       "      <th>L</th>\n",
       "      <th>GF</th>\n",
       "      <th>GA</th>\n",
       "      <th>GD</th>\n",
       "      <th>Pts</th>\n",
       "    </tr>\n",
       "  </thead>\n",
       "  <tbody>\n",
       "    <tr>\n",
       "      <th>FC Barcelona</th>\n",
       "      <td>38</td>\n",
       "      <td>30</td>\n",
       "      <td>4</td>\n",
       "      <td>4</td>\n",
       "      <td>110</td>\n",
       "      <td>21</td>\n",
       "      <td>89</td>\n",
       "      <td>94</td>\n",
       "    </tr>\n",
       "    <tr>\n",
       "      <th>Real Madrid CF</th>\n",
       "      <td>38</td>\n",
       "      <td>30</td>\n",
       "      <td>2</td>\n",
       "      <td>6</td>\n",
       "      <td>118</td>\n",
       "      <td>38</td>\n",
       "      <td>80</td>\n",
       "      <td>92</td>\n",
       "    </tr>\n",
       "    <tr>\n",
       "      <th>Atlético Madrid</th>\n",
       "      <td>38</td>\n",
       "      <td>23</td>\n",
       "      <td>9</td>\n",
       "      <td>6</td>\n",
       "      <td>67</td>\n",
       "      <td>29</td>\n",
       "      <td>38</td>\n",
       "      <td>78</td>\n",
       "    </tr>\n",
       "    <tr>\n",
       "      <th>Valencia CF</th>\n",
       "      <td>38</td>\n",
       "      <td>22</td>\n",
       "      <td>11</td>\n",
       "      <td>5</td>\n",
       "      <td>70</td>\n",
       "      <td>32</td>\n",
       "      <td>38</td>\n",
       "      <td>77</td>\n",
       "    </tr>\n",
       "    <tr>\n",
       "      <th>Sevilla FC</th>\n",
       "      <td>38</td>\n",
       "      <td>23</td>\n",
       "      <td>7</td>\n",
       "      <td>8</td>\n",
       "      <td>71</td>\n",
       "      <td>45</td>\n",
       "      <td>26</td>\n",
       "      <td>76</td>\n",
       "    </tr>\n",
       "    <tr>\n",
       "      <th>Villarreal CF</th>\n",
       "      <td>38</td>\n",
       "      <td>16</td>\n",
       "      <td>12</td>\n",
       "      <td>10</td>\n",
       "      <td>48</td>\n",
       "      <td>37</td>\n",
       "      <td>11</td>\n",
       "      <td>60</td>\n",
       "    </tr>\n",
       "    <tr>\n",
       "      <th>Athletic Club de Bilbao</th>\n",
       "      <td>38</td>\n",
       "      <td>15</td>\n",
       "      <td>10</td>\n",
       "      <td>13</td>\n",
       "      <td>42</td>\n",
       "      <td>41</td>\n",
       "      <td>1</td>\n",
       "      <td>55</td>\n",
       "    </tr>\n",
       "    <tr>\n",
       "      <th>RC Celta de Vigo</th>\n",
       "      <td>38</td>\n",
       "      <td>13</td>\n",
       "      <td>12</td>\n",
       "      <td>13</td>\n",
       "      <td>47</td>\n",
       "      <td>44</td>\n",
       "      <td>3</td>\n",
       "      <td>51</td>\n",
       "    </tr>\n",
       "    <tr>\n",
       "      <th>Málaga CF</th>\n",
       "      <td>38</td>\n",
       "      <td>14</td>\n",
       "      <td>8</td>\n",
       "      <td>16</td>\n",
       "      <td>42</td>\n",
       "      <td>48</td>\n",
       "      <td>-6</td>\n",
       "      <td>50</td>\n",
       "    </tr>\n",
       "    <tr>\n",
       "      <th>RCD Espanyol</th>\n",
       "      <td>38</td>\n",
       "      <td>13</td>\n",
       "      <td>10</td>\n",
       "      <td>15</td>\n",
       "      <td>47</td>\n",
       "      <td>51</td>\n",
       "      <td>-4</td>\n",
       "      <td>49</td>\n",
       "    </tr>\n",
       "    <tr>\n",
       "      <th>Rayo Vallecano</th>\n",
       "      <td>38</td>\n",
       "      <td>15</td>\n",
       "      <td>4</td>\n",
       "      <td>19</td>\n",
       "      <td>46</td>\n",
       "      <td>68</td>\n",
       "      <td>-22</td>\n",
       "      <td>49</td>\n",
       "    </tr>\n",
       "    <tr>\n",
       "      <th>Real Sociedad</th>\n",
       "      <td>38</td>\n",
       "      <td>11</td>\n",
       "      <td>13</td>\n",
       "      <td>14</td>\n",
       "      <td>44</td>\n",
       "      <td>51</td>\n",
       "      <td>-7</td>\n",
       "      <td>46</td>\n",
       "    </tr>\n",
       "    <tr>\n",
       "      <th>Elche CF</th>\n",
       "      <td>38</td>\n",
       "      <td>11</td>\n",
       "      <td>8</td>\n",
       "      <td>19</td>\n",
       "      <td>35</td>\n",
       "      <td>62</td>\n",
       "      <td>-27</td>\n",
       "      <td>41</td>\n",
       "    </tr>\n",
       "    <tr>\n",
       "      <th>Getafe CF</th>\n",
       "      <td>38</td>\n",
       "      <td>10</td>\n",
       "      <td>7</td>\n",
       "      <td>21</td>\n",
       "      <td>33</td>\n",
       "      <td>64</td>\n",
       "      <td>-31</td>\n",
       "      <td>37</td>\n",
       "    </tr>\n",
       "    <tr>\n",
       "      <th>Levante UD</th>\n",
       "      <td>38</td>\n",
       "      <td>9</td>\n",
       "      <td>10</td>\n",
       "      <td>19</td>\n",
       "      <td>34</td>\n",
       "      <td>67</td>\n",
       "      <td>-33</td>\n",
       "      <td>37</td>\n",
       "    </tr>\n",
       "    <tr>\n",
       "      <th>SD Eibar</th>\n",
       "      <td>38</td>\n",
       "      <td>9</td>\n",
       "      <td>8</td>\n",
       "      <td>21</td>\n",
       "      <td>34</td>\n",
       "      <td>55</td>\n",
       "      <td>-21</td>\n",
       "      <td>35</td>\n",
       "    </tr>\n",
       "    <tr>\n",
       "      <th>RC Deportivo de La Coruña</th>\n",
       "      <td>38</td>\n",
       "      <td>7</td>\n",
       "      <td>14</td>\n",
       "      <td>17</td>\n",
       "      <td>35</td>\n",
       "      <td>60</td>\n",
       "      <td>-25</td>\n",
       "      <td>35</td>\n",
       "    </tr>\n",
       "    <tr>\n",
       "      <th>Granada CF</th>\n",
       "      <td>38</td>\n",
       "      <td>7</td>\n",
       "      <td>14</td>\n",
       "      <td>17</td>\n",
       "      <td>29</td>\n",
       "      <td>64</td>\n",
       "      <td>-35</td>\n",
       "      <td>35</td>\n",
       "    </tr>\n",
       "    <tr>\n",
       "      <th>UD Almería</th>\n",
       "      <td>38</td>\n",
       "      <td>8</td>\n",
       "      <td>8</td>\n",
       "      <td>22</td>\n",
       "      <td>35</td>\n",
       "      <td>64</td>\n",
       "      <td>-29</td>\n",
       "      <td>32</td>\n",
       "    </tr>\n",
       "    <tr>\n",
       "      <th>Córdoba CF</th>\n",
       "      <td>38</td>\n",
       "      <td>3</td>\n",
       "      <td>11</td>\n",
       "      <td>24</td>\n",
       "      <td>22</td>\n",
       "      <td>68</td>\n",
       "      <td>-46</td>\n",
       "      <td>20</td>\n",
       "    </tr>\n",
       "  </tbody>\n",
       "</table>\n",
       "</div>"
      ],
      "text/plain": [
       "                           MP   W   D   L   GF  GA  GD  Pts\n",
       "FC Barcelona               38  30   4   4  110  21  89   94\n",
       "Real Madrid CF             38  30   2   6  118  38  80   92\n",
       "Atlético Madrid            38  23   9   6   67  29  38   78\n",
       "Valencia CF                38  22  11   5   70  32  38   77\n",
       "Sevilla FC                 38  23   7   8   71  45  26   76\n",
       "Villarreal CF              38  16  12  10   48  37  11   60\n",
       "Athletic Club de Bilbao    38  15  10  13   42  41   1   55\n",
       "RC Celta de Vigo           38  13  12  13   47  44   3   51\n",
       "Málaga CF                  38  14   8  16   42  48  -6   50\n",
       "RCD Espanyol               38  13  10  15   47  51  -4   49\n",
       "Rayo Vallecano             38  15   4  19   46  68 -22   49\n",
       "Real Sociedad              38  11  13  14   44  51  -7   46\n",
       "Elche CF                   38  11   8  19   35  62 -27   41\n",
       "Getafe CF                  38  10   7  21   33  64 -31   37\n",
       "Levante UD                 38   9  10  19   34  67 -33   37\n",
       "SD Eibar                   38   9   8  21   34  55 -21   35\n",
       "RC Deportivo de La Coruña  38   7  14  17   35  60 -25   35\n",
       "Granada CF                 38   7  14  17   29  64 -35   35\n",
       "UD Almería                 38   8   8  22   35  64 -29   32\n",
       "Córdoba CF                 38   3  11  24   22  68 -46   20"
      ]
     },
     "execution_count": 10,
     "metadata": {},
     "output_type": "execute_result"
    }
   ],
   "source": [
    "# reorder pandas dataframe: https://stackoverflow.com/questions/13148429/how-to-change-the-order-of-dataframe-columns\n",
    "# sort values by points: https://pandas.pydata.org/pandas-docs/stable/reference/api/pandas.DataFrame.sort_values.html\n",
    "standing_df = standing_df[['MP', 'W', 'D', 'L', 'GF', 'GA', 'GD', 'Pts']].sort_values(by=['Pts', 'GD'], ascending=False)\n",
    "# print the dataframe as a table (standing teams)\n",
    "standing_df"
   ]
  },
  {
   "cell_type": "markdown",
   "metadata": {},
   "source": [
    "## Analyzing the data: "
   ]
  },
  {
   "cell_type": "code",
   "execution_count": 11,
   "metadata": {},
   "outputs": [
    {
     "data": {
      "image/png": "[encoded data removed]",
      "text/plain": [
       "<Figure size 432x288 with 1 Axes>"
      ]
     },
     "metadata": {
      "needs_background": "light"
     },
     "output_type": "display_data"
    }
   ],
   "source": [
    "# plot a bar chart \n",
    "std_top = standing_df\n",
    "std_top['Pts'].plot.bar(alpha=0.6) \n",
    "plt.title('Standing teams in LaLiga')\n",
    "plt.xlabel('Teams')\n",
    "plt.ylabel('Points'); "
   ]
  },
  {
   "cell_type": "code",
   "execution_count": 12,
   "metadata": {},
   "outputs": [
    {
     "data": {
      "image/png": "[encoded data removed]",
      "text/plain": [
       "<Figure size 432x288 with 1 Axes>"
      ]
     },
     "metadata": {
      "needs_background": "light"
     },
     "output_type": "display_data"
    }
   ],
   "source": [
    "# plot a bar chart \n",
    "std_top = standing_df.head()\n",
    "std_top['Pts'].plot.bar(alpha=0.6) \n",
    "plt.title('Top 5 standing teams in LaLiga')\n",
    "plt.xlabel('Teams')\n",
    "plt.ylabel('Points'); "
   ]
  },
  {
   "cell_type": "code",
   "execution_count": 13,
   "metadata": {},
   "outputs": [
    {
     "data": {
      "image/png": "[encoded data removed]",
      "text/plain": [
       "<Figure size 432x288 with 1 Axes>"
      ]
     },
     "metadata": {
      "needs_background": "light"
     },
     "output_type": "display_data"
    }
   ],
   "source": [
    "# plot a barh chart \n",
    "std_top = standing_df\n",
    "std_top['GD'].plot.barh(alpha=0.6) \n",
    "plt.title('Standing teams in LaLiga')\n",
    "plt.xlabel('Goals Difference')\n",
    "plt.ylabel('Teams');"
   ]
  },
  {
   "cell_type": "code",
   "execution_count": 14,
   "metadata": {},
   "outputs": [
    {
     "data": {
      "image/png": "[encoded data removed]",
      "text/plain": [
       "<Figure size 432x288 with 1 Axes>"
      ]
     },
     "metadata": {
      "needs_background": "light"
     },
     "output_type": "display_data"
    }
   ],
   "source": [
    "# plot a barh chart \n",
    "std_top = standing_df.head()\n",
    "std_top['GD'].plot.barh(alpha=0.6) \n",
    "plt.title('Top 5 standing teams in LaLiga')\n",
    "plt.xlabel('Goals Difference')\n",
    "plt.ylabel('Teams');"
   ]
  },
  {
   "cell_type": "markdown",
   "metadata": {},
   "source": [
    "### As we can see from the two charts above, FC Barcelona is on the top of both; points and goals differences. However, Real Madrid is right after it with slightly less points which means they had a tough competition between each other. Also we can see that Atletico Madrid, Valencia and Sevilla come after the big two rivals. Since FCB and RM have way many goals than the other football clubs with a ratio of 2:1 goals.\n",
    "\n"
   ]
  },
  {
   "cell_type": "markdown",
   "metadata": {},
   "source": [
    "## Analyze the data from (2008-2016): \n",
    "### Goal differences "
   ]
  },
  {
   "cell_type": "code",
   "execution_count": 15,
   "metadata": {},
   "outputs": [],
   "source": [
    "# Intiate a new dataframe for the matches during all seasons (2008-2016)\n",
    "laliga_season_all = match.loc[(match['country_id'] == 21518)]\n",
    "# group by the home team id \n",
    "laliga_season_teams_all = laliga_season_all.groupby(['home_team_api_id'])"
   ]
  },
  {
   "cell_type": "code",
   "execution_count": 16,
   "metadata": {},
   "outputs": [],
   "source": [
    "# intiate dictionary for the goals  \n",
    "goals = {}\n",
    "\n",
    "# function to add match score to standing dict\n",
    "# it takes: - ht: home team name.\n",
    "#           - at: away team name.\n",
    "#           - hgf: home team goals.\n",
    "#           - agf: away team goals.\n",
    "#           - hw: True if home team win.\n",
    "#           - aw: True if away team win.\n",
    "#           - d: True if draw.\n",
    "def add_goals(ht, at, hgf, agf, hw, aw, d):\n",
    "    \n",
    "# if the home team wins the value from the for loop returns here \n",
    "    if hw:\n",
    "        goals[ht]['GF'] += hgf\n",
    "        goals[at]['GF'] += agf\n",
    "        goals[ht]['GA'] += agf\n",
    "        goals[at]['GA'] += hgf\n",
    "        \n",
    "#if the away team wins the value from the for loop returns here \n",
    "    if aw:\n",
    "        goals[ht]['GF'] += hgf\n",
    "        goals[at]['GF'] += agf\n",
    "        goals[ht]['GA'] += agf\n",
    "        goals[at]['GA'] += hgf\n",
    "        \n",
    "# if they both draw the value from the for loop returns here \n",
    "    if d:\n",
    "        goals[ht]['GF'] += hgf\n",
    "        goals[at]['GF'] += agf\n",
    "        goals[ht]['GA'] += agf\n",
    "        goals[at]['GA'] += hgf"
   ]
  },
  {
   "cell_type": "code",
   "execution_count": 17,
   "metadata": {},
   "outputs": [],
   "source": [
    "# https://stackoverflow.com/questions/42513049/get-all-keys-from-groupby-object-in-pandas\n",
    "# add teams to goals dictionary \n",
    "# loop over teams and add names to goals dictionary \n",
    "for key in laliga_season_teams_all.groups.keys():\n",
    "    team_all = team['team_long_name'].loc[team['team_api_id'] == key]\n",
    "# intiate dictionary for each team in laliga \n",
    "    goals[team_all.item()] = {'GF': 0,\n",
    "                             'GA': 0,\n",
    "                             'GD' : 0,}"
   ]
  },
  {
   "cell_type": "code",
   "execution_count": 18,
   "metadata": {},
   "outputs": [],
   "source": [
    "# https://stackoverflow.com/questions/16476924/how-to-iterate-over-rows-in-a-dataframe-in-pandas \n",
    "# for loop to determine the points and the goals \n",
    "for index, row in laliga_season_all.iterrows():\n",
    "    home_team_all = team['team_long_name'].loc[team['team_api_id'] == row.home_team_api_id].item()\n",
    "    away_team_all = team['team_long_name'].loc[team['team_api_id'] == row.away_team_api_id].item()\n",
    "    if row.home_team_goal == row.away_team_goal:\n",
    "        add_goals(home_team_all, away_team_all, row.home_team_goal, row.away_team_goal, False, False, True)\n",
    "    elif row.home_team_goal > row.away_team_goal:\n",
    "        add_goals(home_team_all, away_team_all, row.home_team_goal, row.away_team_goal, True, False, False)\n",
    "    else:\n",
    "        add_goals(home_team_all, away_team_all, row.home_team_goal, row.away_team_goal, False, True, False)"
   ]
  },
  {
   "cell_type": "code",
   "execution_count": 19,
   "metadata": {},
   "outputs": [],
   "source": [
    "# https://stackoverflow.com/questions/42869544/dictionary-of-lists-to-dataframe\n",
    "goals_df = pd.DataFrame.from_dict(goals,orient='index')"
   ]
  },
  {
   "cell_type": "code",
   "execution_count": 20,
   "metadata": {},
   "outputs": [],
   "source": [
    "# reorder pandas dataframe: https://stackoverflow.com/questions/13148429/how-to-change-the-order-of-dataframe-columns\n",
    "# sort values by goals: https://pandas.pydata.org/pandas-docs/stable/reference/api/pandas.DataFrame.sort_values.html\n",
    "goals_df['GD'] = goals_df['GF'] - goals_df['GA']\n",
    "goals_df = goals_df[['GF', 'GA', 'GD']].sort_values(by=['GF'], ascending=False)"
   ]
  },
  {
   "cell_type": "code",
   "execution_count": 21,
   "metadata": {},
   "outputs": [
    {
     "data": {
      "text/html": [
       "<div>\n",
       "<style scoped>\n",
       "    .dataframe tbody tr th:only-of-type {\n",
       "        vertical-align: middle;\n",
       "    }\n",
       "\n",
       "    .dataframe tbody tr th {\n",
       "        vertical-align: top;\n",
       "    }\n",
       "\n",
       "    .dataframe thead th {\n",
       "        text-align: right;\n",
       "    }\n",
       "</style>\n",
       "<table border=\"1\" class=\"dataframe\">\n",
       "  <thead>\n",
       "    <tr style=\"text-align: right;\">\n",
       "      <th></th>\n",
       "      <th>GF</th>\n",
       "      <th>GA</th>\n",
       "      <th>GD</th>\n",
       "    </tr>\n",
       "  </thead>\n",
       "  <tbody>\n",
       "    <tr>\n",
       "      <th>FC Barcelona</th>\n",
       "      <td>849</td>\n",
       "      <td>232</td>\n",
       "      <td>617</td>\n",
       "    </tr>\n",
       "    <tr>\n",
       "      <th>Real Madrid CF</th>\n",
       "      <td>843</td>\n",
       "      <td>304</td>\n",
       "      <td>539</td>\n",
       "    </tr>\n",
       "    <tr>\n",
       "      <th>Atlético Madrid</th>\n",
       "      <td>524</td>\n",
       "      <td>321</td>\n",
       "      <td>203</td>\n",
       "    </tr>\n",
       "    <tr>\n",
       "      <th>Valencia CF</th>\n",
       "      <td>484</td>\n",
       "      <td>369</td>\n",
       "      <td>115</td>\n",
       "    </tr>\n",
       "    <tr>\n",
       "      <th>Sevilla FC</th>\n",
       "      <td>478</td>\n",
       "      <td>397</td>\n",
       "      <td>81</td>\n",
       "    </tr>\n",
       "    <tr>\n",
       "      <th>Athletic Club de Bilbao</th>\n",
       "      <td>415</td>\n",
       "      <td>412</td>\n",
       "      <td>3</td>\n",
       "    </tr>\n",
       "    <tr>\n",
       "      <th>Málaga CF</th>\n",
       "      <td>377</td>\n",
       "      <td>407</td>\n",
       "      <td>-30</td>\n",
       "    </tr>\n",
       "    <tr>\n",
       "      <th>Villarreal CF</th>\n",
       "      <td>364</td>\n",
       "      <td>324</td>\n",
       "      <td>40</td>\n",
       "    </tr>\n",
       "    <tr>\n",
       "      <th>Getafe CF</th>\n",
       "      <td>345</td>\n",
       "      <td>457</td>\n",
       "      <td>-112</td>\n",
       "    </tr>\n",
       "    <tr>\n",
       "      <th>RCD Espanyol</th>\n",
       "      <td>338</td>\n",
       "      <td>434</td>\n",
       "      <td>-96</td>\n",
       "    </tr>\n",
       "    <tr>\n",
       "      <th>Real Sociedad</th>\n",
       "      <td>316</td>\n",
       "      <td>321</td>\n",
       "      <td>-5</td>\n",
       "    </tr>\n",
       "    <tr>\n",
       "      <th>Rayo Vallecano</th>\n",
       "      <td>247</td>\n",
       "      <td>360</td>\n",
       "      <td>-113</td>\n",
       "    </tr>\n",
       "    <tr>\n",
       "      <th>RC Deportivo de La Coruña</th>\n",
       "      <td>241</td>\n",
       "      <td>334</td>\n",
       "      <td>-93</td>\n",
       "    </tr>\n",
       "    <tr>\n",
       "      <th>Levante UD</th>\n",
       "      <td>241</td>\n",
       "      <td>339</td>\n",
       "      <td>-98</td>\n",
       "    </tr>\n",
       "    <tr>\n",
       "      <th>RCD Mallorca</th>\n",
       "      <td>238</td>\n",
       "      <td>278</td>\n",
       "      <td>-40</td>\n",
       "    </tr>\n",
       "    <tr>\n",
       "      <th>CA Osasuna</th>\n",
       "      <td>232</td>\n",
       "      <td>312</td>\n",
       "      <td>-80</td>\n",
       "    </tr>\n",
       "    <tr>\n",
       "      <th>Real Betis Balompié</th>\n",
       "      <td>225</td>\n",
       "      <td>300</td>\n",
       "      <td>-75</td>\n",
       "    </tr>\n",
       "    <tr>\n",
       "      <th>UD Almería</th>\n",
       "      <td>202</td>\n",
       "      <td>321</td>\n",
       "      <td>-119</td>\n",
       "    </tr>\n",
       "    <tr>\n",
       "      <th>Real Sporting de Gijón</th>\n",
       "      <td>200</td>\n",
       "      <td>303</td>\n",
       "      <td>-103</td>\n",
       "    </tr>\n",
       "    <tr>\n",
       "      <th>RC Celta de Vigo</th>\n",
       "      <td>184</td>\n",
       "      <td>209</td>\n",
       "      <td>-25</td>\n",
       "    </tr>\n",
       "    <tr>\n",
       "      <th>Granada CF</th>\n",
       "      <td>179</td>\n",
       "      <td>299</td>\n",
       "      <td>-120</td>\n",
       "    </tr>\n",
       "    <tr>\n",
       "      <th>Real Valladolid</th>\n",
       "      <td>170</td>\n",
       "      <td>238</td>\n",
       "      <td>-68</td>\n",
       "    </tr>\n",
       "    <tr>\n",
       "      <th>Racing Santander</th>\n",
       "      <td>160</td>\n",
       "      <td>226</td>\n",
       "      <td>-66</td>\n",
       "    </tr>\n",
       "    <tr>\n",
       "      <th>Real Zaragoza</th>\n",
       "      <td>159</td>\n",
       "      <td>240</td>\n",
       "      <td>-81</td>\n",
       "    </tr>\n",
       "    <tr>\n",
       "      <th>SD Eibar</th>\n",
       "      <td>83</td>\n",
       "      <td>116</td>\n",
       "      <td>-33</td>\n",
       "    </tr>\n",
       "    <tr>\n",
       "      <th>Elche CF</th>\n",
       "      <td>65</td>\n",
       "      <td>112</td>\n",
       "      <td>-47</td>\n",
       "    </tr>\n",
       "    <tr>\n",
       "      <th>UD Las Palmas</th>\n",
       "      <td>45</td>\n",
       "      <td>53</td>\n",
       "      <td>-8</td>\n",
       "    </tr>\n",
       "    <tr>\n",
       "      <th>CD Tenerife</th>\n",
       "      <td>40</td>\n",
       "      <td>74</td>\n",
       "      <td>-34</td>\n",
       "    </tr>\n",
       "    <tr>\n",
       "      <th>CD Numancia</th>\n",
       "      <td>38</td>\n",
       "      <td>69</td>\n",
       "      <td>-31</td>\n",
       "    </tr>\n",
       "    <tr>\n",
       "      <th>Xerez Club Deportivo</th>\n",
       "      <td>38</td>\n",
       "      <td>66</td>\n",
       "      <td>-28</td>\n",
       "    </tr>\n",
       "    <tr>\n",
       "      <th>Hércules Club de Fútbol</th>\n",
       "      <td>36</td>\n",
       "      <td>60</td>\n",
       "      <td>-24</td>\n",
       "    </tr>\n",
       "    <tr>\n",
       "      <th>RC Recreativo</th>\n",
       "      <td>34</td>\n",
       "      <td>57</td>\n",
       "      <td>-23</td>\n",
       "    </tr>\n",
       "    <tr>\n",
       "      <th>Córdoba CF</th>\n",
       "      <td>22</td>\n",
       "      <td>68</td>\n",
       "      <td>-46</td>\n",
       "    </tr>\n",
       "  </tbody>\n",
       "</table>\n",
       "</div>"
      ],
      "text/plain": [
       "                            GF   GA   GD\n",
       "FC Barcelona               849  232  617\n",
       "Real Madrid CF             843  304  539\n",
       "Atlético Madrid            524  321  203\n",
       "Valencia CF                484  369  115\n",
       "Sevilla FC                 478  397   81\n",
       "Athletic Club de Bilbao    415  412    3\n",
       "Málaga CF                  377  407  -30\n",
       "Villarreal CF              364  324   40\n",
       "Getafe CF                  345  457 -112\n",
       "RCD Espanyol               338  434  -96\n",
       "Real Sociedad              316  321   -5\n",
       "Rayo Vallecano             247  360 -113\n",
       "RC Deportivo de La Coruña  241  334  -93\n",
       "Levante UD                 241  339  -98\n",
       "RCD Mallorca               238  278  -40\n",
       "CA Osasuna                 232  312  -80\n",
       "Real Betis Balompié        225  300  -75\n",
       "UD Almería                 202  321 -119\n",
       "Real Sporting de Gijón     200  303 -103\n",
       "RC Celta de Vigo           184  209  -25\n",
       "Granada CF                 179  299 -120\n",
       "Real Valladolid            170  238  -68\n",
       "Racing Santander           160  226  -66\n",
       "Real Zaragoza              159  240  -81\n",
       "SD Eibar                    83  116  -33\n",
       "Elche CF                    65  112  -47\n",
       "UD Las Palmas               45   53   -8\n",
       "CD Tenerife                 40   74  -34\n",
       "CD Numancia                 38   69  -31\n",
       "Xerez Club Deportivo        38   66  -28\n",
       "Hércules Club de Fútbol     36   60  -24\n",
       "RC Recreativo               34   57  -23\n",
       "Córdoba CF                  22   68  -46"
      ]
     },
     "execution_count": 21,
     "metadata": {},
     "output_type": "execute_result"
    }
   ],
   "source": [
    "# print the dataframe as a table  \n",
    "goals_df"
   ]
  },
  {
   "cell_type": "markdown",
   "metadata": {},
   "source": [
    "## Analyze the data:"
   ]
  },
  {
   "cell_type": "code",
   "execution_count": 22,
   "metadata": {},
   "outputs": [
    {
     "data": {
      "image/png": "[encoded data removed]",
      "text/plain": [
       "<Figure size 432x288 with 1 Axes>"
      ]
     },
     "metadata": {
      "needs_background": "light"
     },
     "output_type": "display_data"
    }
   ],
   "source": [
    "#comparing between fc barcelona and real madrid GF & GA \n",
    "goals_viz = goals_df\n",
    "goals_viz.plot.bar(y=['GF', 'GA'])\n",
    "plt.title('Comparing between teams')\n",
    "plt.xlabel('Teams')\n",
    "plt.ylabel('Goals');"
   ]
  },
  {
   "cell_type": "markdown",
   "metadata": {},
   "source": [
    "### Taking only FCB and RM: "
   ]
  },
  {
   "cell_type": "code",
   "execution_count": 23,
   "metadata": {
    "scrolled": true
   },
   "outputs": [
    {
     "data": {
      "text/html": [
       "<div>\n",
       "<style scoped>\n",
       "    .dataframe tbody tr th:only-of-type {\n",
       "        vertical-align: middle;\n",
       "    }\n",
       "\n",
       "    .dataframe tbody tr th {\n",
       "        vertical-align: top;\n",
       "    }\n",
       "\n",
       "    .dataframe thead th {\n",
       "        text-align: right;\n",
       "    }\n",
       "</style>\n",
       "<table border=\"1\" class=\"dataframe\">\n",
       "  <thead>\n",
       "    <tr style=\"text-align: right;\">\n",
       "      <th></th>\n",
       "      <th>GF</th>\n",
       "      <th>GA</th>\n",
       "      <th>GD</th>\n",
       "    </tr>\n",
       "  </thead>\n",
       "  <tbody>\n",
       "    <tr>\n",
       "      <th>FC Barcelona</th>\n",
       "      <td>849</td>\n",
       "      <td>232</td>\n",
       "      <td>617</td>\n",
       "    </tr>\n",
       "    <tr>\n",
       "      <th>Real Madrid CF</th>\n",
       "      <td>843</td>\n",
       "      <td>304</td>\n",
       "      <td>539</td>\n",
       "    </tr>\n",
       "  </tbody>\n",
       "</table>\n",
       "</div>"
      ],
      "text/plain": [
       "                 GF   GA   GD\n",
       "FC Barcelona    849  232  617\n",
       "Real Madrid CF  843  304  539"
      ]
     },
     "execution_count": 23,
     "metadata": {},
     "output_type": "execute_result"
    }
   ],
   "source": [
    "# print only FCB and RM \n",
    "goals_df.head(2)"
   ]
  },
  {
   "cell_type": "code",
   "execution_count": 24,
   "metadata": {},
   "outputs": [
    {
     "data": {
      "image/png": "[encoded data removed]",
      "text/plain": [
       "<Figure size 432x288 with 1 Axes>"
      ]
     },
     "metadata": {},
     "output_type": "display_data"
    }
   ],
   "source": [
    "# https://matplotlib.org/gallery/pie_and_polar_charts/pie_features.html\n",
    "# ploting the goal differences only in pie chart \n",
    "goals_fc_rm = goals_df.head(2) \n",
    "labels = 'FC Barcelona', 'Real Madrid CF'\n",
    "sizes = goals_fc_rm['GD'] \n",
    "fig1, ax1 = plt.subplots()\n",
    "ax1.pie(sizes, labels=labels, autopct='%1.1f%%', shadow=True, startangle=90)\n",
    "ax1.axis('equal') \n",
    "plt.show() "
   ]
  },
  {
   "cell_type": "code",
   "execution_count": 25,
   "metadata": {},
   "outputs": [
    {
     "data": {
      "image/png": "[encoded data removed]",
      "text/plain": [
       "<Figure size 432x288 with 1 Axes>"
      ]
     },
     "metadata": {
      "needs_background": "light"
     },
     "output_type": "display_data"
    }
   ],
   "source": [
    "#comparing between fc barcelona and real madrid GF & GA \n",
    "goals_fc_rm = goals_df.head(2) \n",
    "goals_fc_rm.plot( y=[\"GF\", \"GA\"], kind=\"bar\")\n",
    "plt.title('Comparing between FCB and RM')\n",
    "plt.xlabel('Teams')\n",
    "plt.ylabel('Goals');"
   ]
  },
  {
   "cell_type": "markdown",
   "metadata": {},
   "source": [
    "### The data shows that FC Barcelona is better than Real Madrid in LaLiga between 2008 until 2016 with higher Goal differences, also it shows that the two teams have a much powerful forward players. "
   ]
  },
  {
   "cell_type": "markdown",
   "metadata": {},
   "source": [
    "# Conclusion: \n",
    "### The data has shown that FC Barcelona is the best team in the LaLiga through the seasons 2008-2016 in points, goals and goal differences and thats mostly because the team is stable and has good players in all positions. Also i have noticed that Barcelona and Real Madrid are competing each other for a long time ago specially between Messi who plays with FCB and Ronaldo who played with RM during 2009-2018. "
   ]
  },
  {
   "cell_type": "markdown",
   "metadata": {},
   "source": [
    "# Cleaning: "
   ]
  },
  {
   "cell_type": "markdown",
   "metadata": {},
   "source": [
    "### The data i worked with is clean but i did some few steps to clean and work with the missing data \n",
    "\n",
    "## Checking if there's any missing data:"
   ]
  },
  {
   "cell_type": "code",
   "execution_count": 26,
   "metadata": {
    "scrolled": true
   },
   "outputs": [
    {
     "data": {
      "text/plain": [
       "id                     0\n",
       "country_id             0\n",
       "league_id              0\n",
       "season                 0\n",
       "stage                  0\n",
       "date                   0\n",
       "match_api_id           0\n",
       "home_team_api_id       0\n",
       "away_team_api_id       0\n",
       "home_team_goal         0\n",
       "away_team_goal         0\n",
       "home_player_X1         0\n",
       "home_player_X2         0\n",
       "home_player_X3         0\n",
       "home_player_X4         0\n",
       "home_player_X5         0\n",
       "home_player_X6         0\n",
       "home_player_X7         0\n",
       "home_player_X8         0\n",
       "home_player_X9         0\n",
       "home_player_X10        0\n",
       "home_player_X11        0\n",
       "away_player_X1         0\n",
       "away_player_X2         0\n",
       "away_player_X3         0\n",
       "away_player_X4         0\n",
       "away_player_X5         0\n",
       "away_player_X6         0\n",
       "away_player_X7         0\n",
       "away_player_X8         0\n",
       "                    ... \n",
       "B365H                  1\n",
       "B365D                  1\n",
       "B365A                  1\n",
       "BWH                    1\n",
       "BWD                    1\n",
       "BWA                    1\n",
       "IWH                    4\n",
       "IWD                    4\n",
       "IWA                    4\n",
       "LBH                    2\n",
       "LBD                    2\n",
       "LBA                    2\n",
       "PSH                 1523\n",
       "PSD                 1523\n",
       "PSA                 1523\n",
       "WHH                    1\n",
       "WHD                    1\n",
       "WHA                    1\n",
       "SJH                  732\n",
       "SJD                  732\n",
       "SJA                  732\n",
       "VCH                    2\n",
       "VCD                    2\n",
       "VCA                    2\n",
       "GBH                 1147\n",
       "GBD                 1147\n",
       "GBA                 1147\n",
       "BSH                 1141\n",
       "BSD                 1141\n",
       "BSA                 1141\n",
       "Length: 115, dtype: int64"
      ]
     },
     "execution_count": 26,
     "metadata": {},
     "output_type": "execute_result"
    }
   ],
   "source": [
    "# check if there's any missing data \n",
    "laliga.isnull().sum()"
   ]
  },
  {
   "cell_type": "markdown",
   "metadata": {},
   "source": [
    "Drop the missing attributes: "
   ]
  },
  {
   "cell_type": "code",
   "execution_count": 27,
   "metadata": {},
   "outputs": [
    {
     "name": "stderr",
     "output_type": "stream",
     "text": [
      "/anaconda3/lib/python3.7/site-packages/pandas/core/frame.py:3940: SettingWithCopyWarning: \n",
      "A value is trying to be set on a copy of a slice from a DataFrame\n",
      "\n",
      "See the caveats in the documentation: http://pandas.pydata.org/pandas-docs/stable/indexing.html#indexing-view-versus-copy\n",
      "  errors=errors)\n"
     ]
    }
   ],
   "source": [
    "# drop some columns with missing data that i wont use \n",
    "laliga.drop(['B365H', 'B365D','B365A','BWH', 'BWD', 'BWA', 'IWH', 'IWD', 'LBH', 'LBD', 'LBA', 'PSH', 'PSD', 'PSA', 'WHH', 'WHD', 'WHA', 'SJH', 'SJD', 'SJA', 'VCH', 'VCD', 'VCA', 'GBH', 'GBD', 'GBA', 'BSH', 'BSD', 'BSA'], axis=1, inplace=True)"
   ]
  },
  {
   "cell_type": "markdown",
   "metadata": {},
   "source": [
    "Find the mean for some columns and fill it in with it: "
   ]
  },
  {
   "cell_type": "code",
   "execution_count": 28,
   "metadata": {},
   "outputs": [
    {
     "name": "stderr",
     "output_type": "stream",
     "text": [
      "/anaconda3/lib/python3.7/site-packages/pandas/core/generic.py:6130: SettingWithCopyWarning: \n",
      "A value is trying to be set on a copy of a slice from a DataFrame\n",
      "\n",
      "See the caveats in the documentation: http://pandas.pydata.org/pandas-docs/stable/indexing.html#indexing-view-versus-copy\n",
      "  self._update_inplace(new_data)\n"
     ]
    }
   ],
   "source": [
    "# find the mean for some columns and fill in the missing data \n",
    "mean = laliga.mean()\n",
    "laliga.fillna(mean, inplace=True)"
   ]
  }
 ],
 "metadata": {
  "kernelspec": {
   "display_name": "Python 3",
   "language": "python",
   "name": "python3"
  },
  "language_info": {
   "codemirror_mode": {
    "name": "ipython",
    "version": 3
   },
   "file_extension": ".py",
   "mimetype": "text/x-python",
   "name": "python",
   "nbconvert_exporter": "python",
   "pygments_lexer": "ipython3",
   "version": "3.7.2"
  }
 },
 "nbformat": 4,
 "nbformat_minor": 2
}
